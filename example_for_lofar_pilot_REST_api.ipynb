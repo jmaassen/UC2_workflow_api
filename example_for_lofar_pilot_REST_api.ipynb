{
 "cells": [
  {
   "cell_type": "code",
   "execution_count": 1,
   "metadata": {},
   "outputs": [],
   "source": [
    "import requests\n",
    "import lxml.html\n",
    "import pprint\n",
    "\n",
    "from delete_database_entries import *"
   ]
  },
  {
   "cell_type": "markdown",
   "metadata": {},
   "source": [
    "## Note: start your local server!"
   ]
  },
  {
   "cell_type": "markdown",
   "metadata": {},
   "source": [
    "In the django project directory (where the manage.py file is located) type: \"python manage.py runserver\""
   ]
  },
  {
   "cell_type": "markdown",
   "metadata": {},
   "source": [
    "## Deleting all entries in the database to make a clean start"
   ]
  },
  {
   "cell_type": "markdown",
   "metadata": {},
   "source": [
    "To keep the database clean we delete all content first :O"
   ]
  },
  {
   "cell_type": "code",
   "execution_count": 3,
   "metadata": {},
   "outputs": [
    {
     "name": "stdout",
     "output_type": "stream",
     "text": [
      "Deleting: sessions\n",
      "104\n"
     ]
    }
   ],
   "source": [
    "delete_models(\"sessions\")"
   ]
  },
  {
   "cell_type": "markdown",
   "metadata": {},
   "source": [
    "## You can get an overview of the installed pipelines and their configurations"
   ]
  },
  {
   "cell_type": "code",
   "execution_count": 6,
   "metadata": {},
   "outputs": [
    {
     "name": "stdout",
     "output_type": "stream",
     "text": [
      "{   'pipelineschemas': {   'LGPPP': {   'id': 'LGPPP',\n",
      "                                        'label': 'LOFAR GRID Pre-Processing '\n",
      "                                                 'Pipeline',\n",
      "                                        'schema': {   'description': 'This is '\n",
      "                                                                     'the '\n",
      "                                                                     'LOFAR '\n",
      "                                                                     'GRID '\n",
      "                                                                     'Pre-Processing '\n",
      "                                                                     'Pipeline. '\n",
      "                                                                     'Here we '\n",
      "                                                                     'print a '\n",
      "                                                                     'description '\n",
      "                                                                     'of the '\n",
      "                                                                     'pipeline.',\n",
      "                                                      'properties': {   'avg_freq_step': {   'default': 2,\n",
      "                                                                                             'description': 'corresponds '\n",
      "                                                                                                            'to '\n",
      "                                                                                                            '.freqstep '\n",
      "                                                                                                            'in '\n",
      "                                                                                                            'NDPPP '\n",
      "                                                                                                            '.type=average '\n",
      "                                                                                                            ', '\n",
      "                                                                                                            'or '\n",
      "                                                                                                            'in '\n",
      "                                                                                                            'case '\n",
      "                                                                                                            'of '\n",
      "                                                                                                            '.type=demixer '\n",
      "                                                                                                            'it '\n",
      "                                                                                                            'is '\n",
      "                                                                                                            'the '\n",
      "                                                                                                            'demixer.freqstep',\n",
      "                                                                                             'exclusiveMaximum': True,\n",
      "                                                                                             'exclusiveMinimum': True,\n",
      "                                                                                             'maximum': 1000,\n",
      "                                                                                             'minimum': 0,\n",
      "                                                                                             'propertyOrder': 1,\n",
      "                                                                                             'title': 'avg_freq_step',\n",
      "                                                                                             'type': 'integer'},\n",
      "                                                                        'avg_time_step': {   'default': 4,\n",
      "                                                                                             'description': 'corresponds '\n",
      "                                                                                                            'to '\n",
      "                                                                                                            '.timestep '\n",
      "                                                                                                            'in '\n",
      "                                                                                                            'NDPPP '\n",
      "                                                                                                            '.type=average '\n",
      "                                                                                                            ', '\n",
      "                                                                                                            'or '\n",
      "                                                                                                            'in '\n",
      "                                                                                                            'case '\n",
      "                                                                                                            'of '\n",
      "                                                                                                            '.type=demixer '\n",
      "                                                                                                            'it '\n",
      "                                                                                                            'is '\n",
      "                                                                                                            'the '\n",
      "                                                                                                            'demixer.timestep',\n",
      "                                                                                             'exclusiveMaximum': True,\n",
      "                                                                                             'exclusiveMinimum': True,\n",
      "                                                                                             'maximum': 1000,\n",
      "                                                                                             'minimum': 0,\n",
      "                                                                                             'propertyOrder': 2,\n",
      "                                                                                             'title': 'avg_time_step',\n",
      "                                                                                             'type': 'integer'},\n",
      "                                                                        'demix_freq_step': {   'default': 2,\n",
      "                                                                                               'description': 'corresponds '\n",
      "                                                                                                              'to '\n",
      "                                                                                                              '.demixfreqstep '\n",
      "                                                                                                              'in '\n",
      "                                                                                                              'NDPPP '\n",
      "                                                                                                              '.type=demixer',\n",
      "                                                                                               'exclusiveMaximum': True,\n",
      "                                                                                               'exclusiveMinimum': True,\n",
      "                                                                                               'maximum': 1000,\n",
      "                                                                                               'minimum': 0,\n",
      "                                                                                               'propertyOrder': 4,\n",
      "                                                                                               'title': 'demix_freq_step',\n",
      "                                                                                               'type': 'integer'},\n",
      "                                                                        'demix_sources': {   'description': '',\n",
      "                                                                                             'enum': [   'CasA',\n",
      "                                                                                                         'CygA'],\n",
      "                                                                                             'format': 'select',\n",
      "                                                                                             'propertyOrder': 6,\n",
      "                                                                                             'title': 'demix_sources',\n",
      "                                                                                             'type': 'string'},\n",
      "                                                                        'demix_time_step': {   'default': 2,\n",
      "                                                                                               'description': 'corresponds '\n",
      "                                                                                                              'to '\n",
      "                                                                                                              '.demixtimestep '\n",
      "                                                                                                              'in '\n",
      "                                                                                                              'NDPPP '\n",
      "                                                                                                              '.type=demixer',\n",
      "                                                                                               'exclusiveMaximum': True,\n",
      "                                                                                               'exclusiveMinimum': True,\n",
      "                                                                                               'maximum': 1000,\n",
      "                                                                                               'minimum': 0,\n",
      "                                                                                               'propertyOrder': 5,\n",
      "                                                                                               'title': 'demix_time_step',\n",
      "                                                                                               'type': 'integer'},\n",
      "                                                                        'do_demix': {   'default': True,\n",
      "                                                                                        'description': 'if '\n",
      "                                                                                                       'true '\n",
      "                                                                                                       'then '\n",
      "                                                                                                       'demixer '\n",
      "                                                                                                       'instead '\n",
      "                                                                                                       'of '\n",
      "                                                                                                       'average '\n",
      "                                                                                                       'is '\n",
      "                                                                                                       'performed',\n",
      "                                                                                        'propertyOrder': 3,\n",
      "                                                                                        'title': 'do_demix',\n",
      "                                                                                        'type': 'boolean'},\n",
      "                                                                        'parset': {   'default': 'lba_npp',\n",
      "                                                                                      'description': '',\n",
      "                                                                                      'enum': [   '',\n",
      "                                                                                                  'hba_npp',\n",
      "                                                                                                  'hba_raw',\n",
      "                                                                                                  'lba_npp',\n",
      "                                                                                                  'lba_raw'],\n",
      "                                                                                      'format': 'select',\n",
      "                                                                                      'propertyOrder': 8,\n",
      "                                                                                      'title': 'parset',\n",
      "                                                                                      'type': 'string'},\n",
      "                                                                        'select_nl': {   'default': True,\n",
      "                                                                                         'description': 'if '\n",
      "                                                                                                        'true '\n",
      "                                                                                                        'then '\n",
      "                                                                                                        'only '\n",
      "                                                                                                        'Dutch '\n",
      "                                                                                                        'stations '\n",
      "                                                                                                        'are '\n",
      "                                                                                                        'selected',\n",
      "                                                                                         'propertyOrder': 7,\n",
      "                                                                                         'title': 'select_nl',\n",
      "                                                                                         'type': 'boolean'}},\n",
      "                                                      'required': [   'avg_freq_step',\n",
      "                                                                      'avg_time_step',\n",
      "                                                                      'do_demix',\n",
      "                                                                      'demix_freq_step',\n",
      "                                                                      'demix_time_step',\n",
      "                                                                      'demix_sources',\n",
      "                                                                      'select_nl',\n",
      "                                                                      'parset'],\n",
      "                                                      'title': 'Configuration '\n",
      "                                                               'Parameters:',\n",
      "                                                      'type': 'object'}}}}\n"
     ]
    }
   ],
   "source": [
    "with requests.Session() as s:\n",
    "    response = s.get('http://localhost:8000/pipelineschemas/')\n",
    "    response_data = response.json()\n",
    "    pp.pprint(response_data)\n",
    "    #pp.pprint(response_data[\"pipelineschemas\"][\"LGPPP\"][\"schema\"][\"required\"])"
   ]
  },
  {
   "cell_type": "markdown",
   "metadata": {},
   "source": [
    "## We can make a session object"
   ]
  },
  {
   "cell_type": "markdown",
   "metadata": {},
   "source": [
    "Here imagine that the session object is an object that will actually run your pipeline configuration on your data."
   ]
  },
  {
   "cell_type": "code",
   "execution_count": 7,
   "metadata": {},
   "outputs": [],
   "source": [
    "data = {\n",
    "        \"email\": \"pipo@popo.com\",\n",
    "        \"description\": \"\",\n",
    "        \"pipeline\" : \"LGPPP\",\n",
    "        \"config\": \"{\\\"avg_freq_step\\\": 1, \\\"avg_time_step\\\": 1, \\\"do_demix\\\": 1, \\\"demix_freq_step\\\": 1, \\\"demix_time_step\\\": 1, \\\"demix_sources\\\": 1, \\\"select_nl\\\": 1,\\\"parset\\\": 1}\",\n",
    "        \"observation\": \"somenumber\",\n",
    "        }"
   ]
  },
  {
   "cell_type": "code",
   "execution_count": 8,
   "metadata": {},
   "outputs": [
    {
     "name": "stdout",
     "output_type": "stream",
     "text": [
      "Response code:  201\n",
      "{   'config': {   'avg_freq_step': 1,\n",
      "                  'avg_time_step': 1,\n",
      "                  'demix_freq_step': 1,\n",
      "                  'demix_sources': 1,\n",
      "                  'demix_time_step': 1,\n",
      "                  'do_demix': 1,\n",
      "                  'parset': 1,\n",
      "                  'select_nl': 1},\n",
      "    'date_created': '2018-07-19T13:46:01.994799Z',\n",
      "    'date_modified': '2018-07-19T13:46:02.150600Z',\n",
      "    'description': '',\n",
      "    'email': 'pipo@popo.com',\n",
      "    'id': 105,\n",
      "    'observation': 'somenumber',\n",
      "    'pipeline': 'LGPPP',\n",
      "    'pipeline_respone': 'pipeline response LGPPP',\n",
      "    'pipeline_version': '0.0',\n",
      "    'status': 'started'}\n"
     ]
    }
   ],
   "source": [
    "with requests.Session() as s:\n",
    "    response = s.post('http://localhost:8000/sessions/', data=data)\n",
    "    print(\"Response code: \", response.status_code)\n",
    "    pp.pprint(response.json())"
   ]
  },
  {
   "cell_type": "markdown",
   "metadata": {},
   "source": [
    "## Now lets have a look at the content of the database through some get requests"
   ]
  },
  {
   "cell_type": "markdown",
   "metadata": {},
   "source": [
    "### Sessions:"
   ]
  },
  {
   "cell_type": "code",
   "execution_count": 9,
   "metadata": {},
   "outputs": [
    {
     "name": "stdout",
     "output_type": "stream",
     "text": [
      "[   {   'config': {   'avg_freq_step': 1,\n",
      "                      'avg_time_step': 1,\n",
      "                      'demix_freq_step': 1,\n",
      "                      'demix_sources': 1,\n",
      "                      'demix_time_step': 1,\n",
      "                      'do_demix': 1,\n",
      "                      'parset': 1,\n",
      "                      'select_nl': 1},\n",
      "        'date_created': '2018-07-19T13:46:01.994799Z',\n",
      "        'date_modified': '2018-07-19T13:46:02.150600Z',\n",
      "        'description': '',\n",
      "        'email': 'pipo@popo.com',\n",
      "        'id': 105,\n",
      "        'observation': 'somenumber',\n",
      "        'pipeline': 'LGPPP',\n",
      "        'pipeline_respone': 'pipeline response LGPPP',\n",
      "        'pipeline_version': '0.0',\n",
      "        'status': 'started'}]\n"
     ]
    }
   ],
   "source": [
    "with requests.Session() as s:\n",
    "    response = s.get('http://localhost:8000/sessions/')\n",
    "    pp.pprint(response.json())"
   ]
  },
  {
   "cell_type": "code",
   "execution_count": null,
   "metadata": {},
   "outputs": [],
   "source": []
  }
 ],
 "metadata": {
  "kernelspec": {
   "display_name": "Python 3",
   "language": "python",
   "name": "python3"
  },
  "language_info": {
   "codemirror_mode": {
    "name": "ipython",
    "version": 3
   },
   "file_extension": ".py",
   "mimetype": "text/x-python",
   "name": "python",
   "nbconvert_exporter": "python",
   "pygments_lexer": "ipython3",
   "version": "3.6.5"
  }
 },
 "nbformat": 4,
 "nbformat_minor": 2
}
